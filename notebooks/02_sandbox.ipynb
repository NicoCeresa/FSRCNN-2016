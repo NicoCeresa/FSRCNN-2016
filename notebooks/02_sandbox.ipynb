{
 "cells": [
  {
   "cell_type": "code",
   "execution_count": 1,
   "metadata": {},
   "outputs": [],
   "source": [
    "# !pip3 install torch torchvision torchaudio --index-url https://download.pytorch.org/whl/cu121"
   ]
  },
  {
   "cell_type": "code",
   "execution_count": 2,
   "metadata": {},
   "outputs": [
    {
     "name": "stdout",
     "output_type": "stream",
     "text": [
      "device: cuda\n",
      "2.1.2+cu121\n"
     ]
    }
   ],
   "source": [
    "import os\n",
    "import PIL\n",
    "import torch\n",
    "import random \n",
    "import zipfile\n",
    "import numpy as np\n",
    "from torch import nn\n",
    "from PIL import Image\n",
    "from glob import glob\n",
    "from pathlib import Path\n",
    "import matplotlib.pyplot as plt\n",
    "from torchvision.transforms import v2, InterpolationMode\n",
    "\n",
    "device = 'cuda' if torch.cuda.is_available() else 'cpu'\n",
    "torch.cuda.empty_cache()\n",
    "\n",
    "print(f\"device: {device}\")\n",
    "print(torch.__version__)"
   ]
  },
  {
   "cell_type": "markdown",
   "metadata": {},
   "source": [
    "# 1. Create Image Directories"
   ]
  },
  {
   "cell_type": "code",
   "execution_count": 3,
   "metadata": {},
   "outputs": [],
   "source": [
    "def unzip(zip_path, image_path):\n",
    "    \"\"\"unzips\n",
    "\n",
    "    Args:\n",
    "        zip_path (_type_): _description_\n",
    "        image_path (_type_): _description_\n",
    "    \"\"\"\n",
    "    if Path(image_path).is_dir():\n",
    "        print(f\"{image_path} already exists\")\n",
    "    else:\n",
    "        image_path.mkdir(parents=True, exist_ok=True)      \n",
    "        \n",
    "    if len(os.listdir(image_path)) > 0:\n",
    "        print(\"Images already in folder\") \n",
    "        pass\n",
    "    else:\n",
    "        with zipfile.ZipFile(zip_path, 'r') as zip_train:\n",
    "            print('Unzipping Data')\n",
    "            zip_train.extractall(image_path)    "
   ]
  },
  {
   "cell_type": "code",
   "execution_count": 4,
   "metadata": {},
   "outputs": [
    {
     "name": "stdout",
     "output_type": "stream",
     "text": [
      "G:\\Projects\\FSRCNN-2016\\images\\train_images already exists\n",
      "Images already in folder\n",
      "G:\\Projects\\FSRCNN-2016\\images\\valid_images already exists\n",
      "Images already in folder\n"
     ]
    }
   ],
   "source": [
    "project_directory = Path('G:/Projects/FSRCNN-2016/')\n",
    "\n",
    "zip_data_path = Path(os.path.join(project_directory, 'zips'))\n",
    "image_data_path = Path(os.path.join(project_directory, 'images'))\n",
    "\n",
    "train_zip_path =  Path(os.path.join(zip_data_path, 'DIV2K_train_HR.zip'))\n",
    "train_image_path =  Path(os.path.join(image_data_path, 'train_images'))\n",
    "\n",
    "valid_zip_path = Path(os.path.join(zip_data_path, 'DIV2K_valid_HR.zip'))\n",
    "valid_image_path = Path(os.path.join(image_data_path, 'valid_images'))\n",
    "\n",
    "unzip(train_zip_path, train_image_path)\n",
    "unzip(valid_zip_path, valid_image_path)"
   ]
  },
  {
   "cell_type": "code",
   "execution_count": 5,
   "metadata": {},
   "outputs": [
    {
     "name": "stdout",
     "output_type": "stream",
     "text": [
      "There are 2 directories and 13 images in G:\\Projects\\FSRCNN-2016\\images\n",
      "There are 1 directories and 0 images in G:\\Projects\\FSRCNN-2016\\images\\train_images\n",
      "There are 0 directories and 800 images in G:\\Projects\\FSRCNN-2016\\images\\train_images\\DIV2K_train_HR\n",
      "There are 1 directories and 0 images in G:\\Projects\\FSRCNN-2016\\images\\valid_images\n",
      "There are 0 directories and 100 images in G:\\Projects\\FSRCNN-2016\\images\\valid_images\\DIV2K_valid_HR\n"
     ]
    }
   ],
   "source": [
    "def walk_through_dir(dir_path):\n",
    "    for dirpath, dirnames, filenames in os.walk(dir_path):\n",
    "        print(f\"There are {len(dirnames)} directories and {len(filenames)} images in {dirpath}\")\n",
    "\n",
    "walk_through_dir(image_data_path)"
   ]
  },
  {
   "cell_type": "code",
   "execution_count": 6,
   "metadata": {},
   "outputs": [
    {
     "name": "stdout",
     "output_type": "stream",
     "text": [
      "Image type is <class 'PIL.PngImagePlugin.PngImageFile'>\n",
      "Image size is (1452, 2040)\n"
     ]
    }
   ],
   "source": [
    "image_path_list = list(train_image_path.glob(\"*/*.png\"))\n",
    "random_img = random.choice(image_path_list)\n",
    "\n",
    "im = Image.open(random_img)\n",
    "im_height = im.height\n",
    "im_width = im.width\n",
    "print(f\"Image type is {type(im)}\")\n",
    "print(f\"Image size is {im_height, im_width}\")\n",
    "# im"
   ]
  },
  {
   "cell_type": "markdown",
   "metadata": {},
   "source": [
    "# 2. Transforms"
   ]
  },
  {
   "cell_type": "code",
   "execution_count": 7,
   "metadata": {},
   "outputs": [],
   "source": [
    "def train_transform_LR_image(self, image):\n",
    "    im_height = image.height\n",
    "    im_width = image.width\n",
    "    train_img_transform = v2.Compose([\n",
    "        v2.ToPILImage(),\n",
    "        v2.Resize(size=((int(im_height/self.n)), (int(im_width/self.n))), interpolation=InterpolationMode.BICUBIC),\n",
    "        # v2.RandomPerspective(distortion_scale=0.1, p = 0.33),\n",
    "        v2.RandomChoice([\n",
    "        v2.RandomRotation(degrees=90),\n",
    "        v2.RandomRotation(degrees=180),\n",
    "        v2.RandomRotation(degrees=270)]\n",
    "        , p=[0.33, .33, .33])\n",
    "        ,\n",
    "        # v2.RandomApply([\n",
    "        #     v2.RandomCrop(size=(int((int(im_height/self.n))*.8),int((int(im_width/self.n))*.8)))\n",
    "        # ], p=.3)\n",
    "        # ,\n",
    "        v2.Compose([v2.ToImage(), v2.ToDtype(torch.float32, scale=True)]),\n",
    "                                ])\n",
    "    return img_transform(image)\n",
    "\n",
    "def test_transform_LR_image(self, image):\n",
    "    im_height = image.height\n",
    "    im_width = image.width\n",
    "    test_img_transform = v2.Compose([\n",
    "        v2.ToPILImage(),\n",
    "        v2.Resize(size=((int(im_height/self.n)), (int(im_width/self.n))), interpolation=InterpolationMode.BICUBIC),\n",
    "        v2.Compose([v2.ToImage(), v2.ToDtype(torch.float32, scale=True)]),\n",
    "    ])\n",
    "    \n",
    "def transform_HR_image(self, image):\n",
    "    HR_img_transform = v2.Compose([\n",
    "        v2.Compose([v2.ToImage(), v2.ToDtype(torch.float32, scale=True)])\n",
    "    ])\n",
    "    return img_transform(image)"
   ]
  },
  {
   "cell_type": "code",
   "execution_count": 8,
   "metadata": {},
   "outputs": [],
   "source": [
    "n=3\n",
    "train_img_transform = v2.Compose([\n",
    "        v2.ToPILImage(),\n",
    "        v2.Resize(size=((int(im_height//n)), (int(im_width//n))), interpolation=InterpolationMode.BICUBIC),\n",
    "        # v2.RandomPerspective(distortion_scale=0.1, p = 0.33),\n",
    "        v2.RandomChoice([\n",
    "        v2.RandomRotation(degrees=90),\n",
    "        v2.RandomRotation(degrees=180),\n",
    "        v2.RandomRotation(degrees=270)]\n",
    "        , p=[0.33, .33, .33])\n",
    "        ,\n",
    "        # v2.RandomApply([\n",
    "        #     v2.RandomCrop(size=(int((int(im_height/self.n))*.8),int((int(im_width/self.n))*.8)))\n",
    "        # ], p=.3)\n",
    "        # ,\n",
    "        v2.Compose([v2.ToImage(), v2.ToDtype(torch.float32, scale=True)]),\n",
    "                                ])\n",
    "\n",
    "test_img_transform = v2.Compose([\n",
    "        v2.ToPILImage(),\n",
    "        v2.Resize(size=((int(im_height/n)), (int(im_width/n))), interpolation=InterpolationMode.BICUBIC),\n",
    "        v2.Compose([v2.ToImage(), v2.ToDtype(torch.float32, scale=True)]),\n",
    "    ])\n",
    "\n",
    "hr_img_transform = v2.Compose([\n",
    "        v2.Compose([v2.ToImage(), v2.ToDtype(torch.float32, scale=True)])\n",
    "    ])"
   ]
  },
  {
   "cell_type": "markdown",
   "metadata": {},
   "source": [
    "# Augment the Images"
   ]
  },
  {
   "cell_type": "code",
   "execution_count": 9,
   "metadata": {},
   "outputs": [
    {
     "name": "stdout",
     "output_type": "stream",
     "text": [
      "G:\\Projects\\FSRCNN-2016\\augmented_images already exists\n"
     ]
    }
   ],
   "source": [
    "augmented_image_path = Path(os.path.join(project_directory, 'augmented_images'))\n",
    "if augmented_image_path.is_dir():\n",
    "        print(f\"{augmented_image_path} already exists\")\n",
    "else:\n",
    "    augmented_image_path.mkdir(parents=True, exist_ok=True)"
   ]
  },
  {
   "cell_type": "code",
   "execution_count": 10,
   "metadata": {},
   "outputs": [
    {
     "name": "stdout",
     "output_type": "stream",
     "text": [
      "G:\\Projects\\FSRCNN-2016\\augmented_images/train already exists\n",
      "files already loaded into G:\\Projects\\FSRCNN-2016\\augmented_images\\train\n",
      "G:\\Projects\\FSRCNN-2016\\augmented_images/valid already exists\n",
      "files already loaded into G:\\Projects\\FSRCNN-2016\\augmented_images\\valid\n"
     ]
    }
   ],
   "source": [
    "import h5py\n",
    "import numpy as np\n",
    "from pathlib import Path\n",
    "import cv2\n",
    "from glob import glob\n",
    "\n",
    "\n",
    "def augment_images(in_path, out_path, subclass):\n",
    "    \n",
    "    augmented_image_path = Path(os.path.join(project_directory, 'augmented_images'))\n",
    "    subclass_dir = Path(os.path.join(augmented_image_path, subclass))\n",
    "    if subclass_dir.is_dir():\n",
    "        print(f\"{augmented_image_path}/{subclass} already exists\")\n",
    "        \n",
    "    else:\n",
    "        subclass_dir.mkdir(parents=True, exist_ok=True)\n",
    "        \n",
    "        \n",
    "    if len(os.listdir(subclass_dir)) > 0:\n",
    "        print(f\"files already loaded into {str(out_path)}\\{subclass}\")\n",
    "        pass\n",
    "    \n",
    "    else:\n",
    "    \n",
    "        train_augmented = []\n",
    "        \n",
    "        og_train_images = list(glob(os.path.join(in_path, f\"*/*.png\")))\n",
    "        for image_path in og_train_images:\n",
    "            path_str = str(image_path)\n",
    "            path_name = os.path.basename(path_str).split('.')[0]\n",
    "            image = cv2.imread(image_path)\n",
    "            for scale in [1.0, 0.9, 0.8, 0.7, 0.6]:\n",
    "                for rotation in [0, 90, 180, 270]:\n",
    "                    augmented_image_path = os.path.join(out_path, subclass, f\"{path_name}_{1 if str(scale).split('.')[1] == '0' else str(scale).split('.')[1]}_{rotation}.png\")\n",
    "                    augmented = cv2.resize(src=image, \n",
    "                                        dsize=(int(image.shape[0] * scale), \n",
    "                                        int(image.shape[1] * scale)), \n",
    "                                        interpolation=cv2.INTER_CUBIC)\n",
    "                    image_center = tuple(np.array(image.shape[1::-1]) / 2)\n",
    "                    rot_mat = cv2.getRotationMatrix2D(image_center, rotation, 1.0)\n",
    "                    augmented = cv2.warpAffine(image, rot_mat, image.shape[1::-1], flags=cv2.INTER_CUBIC)\n",
    "                    # augmented = augmented.rotate(rotation, expand=True)\n",
    "                    # train_augmented.append(augmented)\n",
    "                    cv2.imwrite(augmented_image_path, augmented)\n",
    "                    \n",
    "        print(f\"Finished Loading Images {out_path}\\{subclass}\")\n",
    "            \n",
    "augment_images(in_path=train_image_path,\n",
    "               out_path=augmented_image_path,\n",
    "               subclass='train')\n",
    "\n",
    "augment_images(in_path=valid_image_path,\n",
    "               out_path=augmented_image_path,\n",
    "               subclass='valid')"
   ]
  },
  {
   "cell_type": "markdown",
   "metadata": {},
   "source": [
    "# Create the custom Datasets"
   ]
  },
  {
   "cell_type": "code",
   "execution_count": 11,
   "metadata": {},
   "outputs": [],
   "source": [
    "from torch.utils.data import Dataset, DataLoader\n",
    "import numpy as np\n",
    "from typing import Tuple\n",
    "import pathlib\n",
    "\n",
    "\n",
    "class TrainDIV2K(Dataset):\n",
    "    \n",
    "    def __init__(self, dir_path:str, scale:int):\n",
    "        super().__init__()\n",
    "        # get images from a path\n",
    "        self.paths = list(pathlib.Path(dir_path).glob(f\"*.png\"))\n",
    "        self.scale = scale\n",
    "\n",
    "    def load_image(self, idx:int) -> Image.Image:\n",
    "        image_path = self.paths[idx]\n",
    "        return Image.open(image_path).convert('RGB')\n",
    "    \n",
    "    def train_transform(self, image):\n",
    "        im_height = (image.height // self.scale) * self.scale\n",
    "        im_width = (image.width // self.scale) * self.scale\n",
    "        train_img_transform = v2.Compose([\n",
    "            v2.ToPILImage(),\n",
    "            v2.Resize(size=((int(im_height//self.scale)), (int(im_width//self.scale))), interpolation=InterpolationMode.BICUBIC),\n",
    "            # v2.Grayscale(num_output_channels=1),\n",
    "            v2.Compose([v2.ToImage(), v2.ToDtype(torch.int8, scale=True)])])\n",
    "        \n",
    "        hr_img_transform = v2.Compose([\n",
    "            # v2.Grayscale(num_output_channels=1),\n",
    "            v2.Resize(size=(im_height, im_width), interpolation=InterpolationMode.BICUBIC),\n",
    "            v2.Compose([v2.ToImage(), v2.ToDtype(torch.int8, scale=True)])\n",
    "        ])\n",
    "        \n",
    "        return train_img_transform(image), hr_img_transform(image)\n",
    "    \n",
    "    def __len__(self) -> int:\n",
    "        return len(self.paths)\n",
    "    \n",
    "    def __getitem__(self, idx:int) -> Tuple[torch.Tensor, torch.Tensor]:\n",
    "        \"\"\"\n",
    "        Returns the LR and HR images given an index\n",
    "\n",
    "        Args:\n",
    "            idx (int): Index of image\n",
    "\n",
    "        Returns:\n",
    "            Tuple[torch.Tensor, torch.Tensor]: returns images in forms of tensors\n",
    "        \"\"\"\n",
    "        img = self.load_image(idx)\n",
    "        LR, HR = self.train_transform(img)\n",
    "        return torch.Tensor(np.expand_dims(LR / 255., 0)).squeeze(0), torch.Tensor(np.expand_dims(HR / 255., 0)).squeeze(0)"
   ]
  },
  {
   "cell_type": "code",
   "execution_count": 12,
   "metadata": {},
   "outputs": [],
   "source": [
    "from torch.utils.data import Dataset, DataLoader\n",
    "import numpy as np\n",
    "from typing import Tuple\n",
    "import pathlib\n",
    "\n",
    "\n",
    "class EvalDIV2K(Dataset):\n",
    "    \n",
    "    def __init__(self, dir_path:str, scale):\n",
    "        super().__init__()\n",
    "        # get images from a path\n",
    "        self.paths = list(pathlib.Path(dir_path).glob(f\"*.png\"))\n",
    "        self.scale = scale\n",
    "\n",
    "    def load_image(self, idx:int) -> Image.Image:\n",
    "        image_path = self.paths[idx]\n",
    "        return Image.open(image_path).convert('RGB')\n",
    "    \n",
    "    def test_transform(self, image):\n",
    "        im_height = (image.height // self.scale) * self.scale\n",
    "        im_width = (image.width // self.scale) * self.scale\n",
    "        test_img_transform = v2.Compose([\n",
    "            v2.ToPILImage(),\n",
    "            v2.Resize(size=((int(im_height//self.scale)), (int(im_width//self.scale))), interpolation=InterpolationMode.BICUBIC),\n",
    "            # v2.Grayscale(num_output_channels=1),\n",
    "            v2.Compose([v2.ToImage(), v2.ToDtype(torch.int8, scale=True)]),\n",
    "        ])\n",
    "        \n",
    "        hr_img_transform = v2.Compose([\n",
    "            # v2.Grayscale(num_output_channels=1),\n",
    "            v2.Resize(size=(im_height, im_width), interpolation=InterpolationMode.BICUBIC),\n",
    "            v2.Compose([v2.ToImage(), v2.ToDtype(torch.int8, scale=True)])\n",
    "        ])\n",
    "        \n",
    "        return test_img_transform(image), hr_img_transform(image)\n",
    "    \n",
    "    def __len__(self) -> int:\n",
    "        return len(self.paths)\n",
    "    \n",
    "    def __getitem__(self, idx:int) -> Tuple[torch.Tensor, torch.Tensor]:\n",
    "        \"\"\"\n",
    "        Returns the LR and HR images given an index\n",
    "\n",
    "        Args:\n",
    "            idx (int): Index of image\n",
    "\n",
    "        Returns:\n",
    "            Tuple[torch.Tensor, torch.Tensor]: returns images in forms of tensors\n",
    "        \"\"\"\n",
    "        img = self.load_image(idx)\n",
    "        LR, HR = self.test_transform(img)\n",
    "        return torch.Tensor(np.expand_dims(LR / 255., 0)).squeeze(0), torch.Tensor(np.expand_dims(HR / 255., 0)).squeeze(0)"
   ]
  },
  {
   "cell_type": "code",
   "execution_count": 13,
   "metadata": {},
   "outputs": [
    {
     "data": {
      "text/plain": [
       "(WindowsPath('G:/Projects/FSRCNN-2016/augmented_images/train'),\n",
       " WindowsPath('G:/Projects/FSRCNN-2016/augmented_images/valid'),\n",
       " 2000,\n",
       " 15999)"
      ]
     },
     "execution_count": 13,
     "metadata": {},
     "output_type": "execute_result"
    }
   ],
   "source": [
    "augmented_image_path_train = Path(os.path.join(augmented_image_path, 'train'))\n",
    "augmented_image_path_valid = Path(os.path.join(augmented_image_path, 'valid'))\n",
    "\n",
    "augmented_image_path_train, augmented_image_path_valid, len(os.listdir(augmented_image_path_valid)), len(os.listdir(augmented_image_path_train))"
   ]
  },
  {
   "cell_type": "code",
   "execution_count": 14,
   "metadata": {},
   "outputs": [
    {
     "data": {
      "text/plain": [
       "15999"
      ]
     },
     "execution_count": 14,
     "metadata": {},
     "output_type": "execute_result"
    }
   ],
   "source": [
    "# len(os.listdir(augmented_image_path_train))\n",
    "len(list(pathlib.Path(augmented_image_path_train).glob(f\"*.png\")))"
   ]
  },
  {
   "cell_type": "code",
   "execution_count": 15,
   "metadata": {},
   "outputs": [
    {
     "name": "stdout",
     "output_type": "stream",
     "text": [
      "Length of training data: 15999\n",
      "Length of Validation data: 2000\n"
     ]
    }
   ],
   "source": [
    "train_data_custom = TrainDIV2K(dir_path=augmented_image_path_train,\n",
    "                               scale=4)\n",
    "\n",
    "eval_data_custom = EvalDIV2K(dir_path=augmented_image_path_valid,\n",
    "                               scale=4)\n",
    "\n",
    "print(f\"Length of training data: {len(train_data_custom)}\")\n",
    "print(f\"Length of Validation data: {len(eval_data_custom)}\")"
   ]
  },
  {
   "cell_type": "code",
   "execution_count": null,
   "metadata": {},
   "outputs": [],
   "source": []
  },
  {
   "cell_type": "code",
   "execution_count": 16,
   "metadata": {},
   "outputs": [],
   "source": [
    "BATCH_SIZE = 1\n",
    "NUM_WORKERS = os.cpu_count()\n",
    "\n",
    "train_dataloader_custom = DataLoader(dataset=train_data_custom,\n",
    "                                     batch_size=1,\n",
    "                                    #  num_workers=8,\n",
    "                                     shuffle=True,\n",
    "                                     pin_memory=True\n",
    "                                     )\n",
    "\n",
    "eval_dataloader_custom = DataLoader(dataset=eval_data_custom,\n",
    "                                     batch_size=1)"
   ]
  },
  {
   "cell_type": "code",
   "execution_count": 17,
   "metadata": {},
   "outputs": [
    {
     "data": {
      "text/plain": [
       "(torch.Size([1, 3, 339, 510]), torch.Size([1, 3, 1356, 2040]))"
      ]
     },
     "execution_count": 17,
     "metadata": {},
     "output_type": "execute_result"
    }
   ],
   "source": [
    "LR_custom, HR_custom = next(iter(eval_dataloader_custom))\n",
    "\n",
    "LR_custom.shape, HR_custom.shape"
   ]
  },
  {
   "cell_type": "markdown",
   "metadata": {},
   "source": [
    "# 4. Display Images"
   ]
  },
  {
   "cell_type": "code",
   "execution_count": 18,
   "metadata": {},
   "outputs": [],
   "source": [
    "from einops.layers.torch import Rearrange\n",
    "\n",
    "def plot_transformation(idx, data, n=1):\n",
    "    \"\"\"\n",
    "    input:\n",
    "        path_list: list of paths\n",
    "        transform: a transform function\n",
    "        n: the number of images to display\n",
    "    output:\n",
    "        displays random images in pairs of the original and transformed image\n",
    "    \"\"\"\n",
    "    plt.figure(figsize=(30,20))\n",
    "    random_images = random.sample(range(len(data)), n)\n",
    "    LR_custom, HR_custom = next(iter(data))\n",
    "    for img in random_images:\n",
    "        fig, ax = plt.subplots(nrows=1, ncols=2)\n",
    "        # images = data.__getitem__(img)\n",
    "        # OG image\n",
    "        # image_0 = Rearrange('h w c -> h w c')(images[0])\n",
    "        ax[0].imshow(LR_custom.squeeze(0).permute(1,2,0), interpolation='nearest')\n",
    "        ax[0].set_title(f\"Original\")\n",
    "        ax[0].axis(False)\n",
    "        \n",
    "        # Transformed image\n",
    "        # image_1 = Rearrange('h w c -> h w c')(images[1])\n",
    "        ax[1].imshow(HR_custom.squeeze(0).permute(1,2,0))\n",
    "        ax[1].set_title(f\"Downsampled\")\n",
    "        ax[1].axis(False)"
   ]
  },
  {
   "cell_type": "code",
   "execution_count": 19,
   "metadata": {},
   "outputs": [
    {
     "data": {
      "text/plain": [
       "<Figure size 3000x2000 with 0 Axes>"
      ]
     },
     "metadata": {},
     "output_type": "display_data"
    },
    {
     "data": {
      "image/png": "[encoded data removed]",
      "text/plain": [
       "<Figure size 640x480 with 2 Axes>"
      ]
     },
     "metadata": {},
     "output_type": "display_data"
    }
   ],
   "source": [
    "plot_transformation(idx=3,\n",
    "                    data=train_dataloader_custom)"
   ]
  },
  {
   "cell_type": "markdown",
   "metadata": {},
   "source": [
    "# Create the model "
   ]
  },
  {
   "cell_type": "code",
   "execution_count": 20,
   "metadata": {},
   "outputs": [],
   "source": [
    "from torch import nn\n",
    "import math \n",
    "\n",
    "class FSRCNN(nn.Module):\n",
    "    \"\"\"\n",
    "    Model from https://arxiv.org/abs/1608.00367\n",
    "    \"\"\"\n",
    "    def __init__(self, scale:int, num_channels=3, d=56, s=12, m=4):\n",
    "        \"\"\"\n",
    "        d: LR feature dimension\n",
    "        s: level of shrinking\n",
    "        m: number of mapping layers\n",
    "        n: scaling factor\n",
    "        \"\"\"\n",
    "        super().__init__()\n",
    "        if scale < 2  and scale > 5:\n",
    "            raise ValueError(\"Scaling must be 2, 3, or 4\")\n",
    "        else:\n",
    "            self.scale = scale\n",
    "        \n",
    "        self.Conv1 = nn.Sequential(nn.Conv2d(in_channels=num_channels,\n",
    "                               out_channels=d,\n",
    "                               kernel_size=5,\n",
    "                               padding=5//2,\n",
    "                               padding_mode='zeros',\n",
    "                               device=device),\n",
    "                                   nn.PReLU(d))\n",
    "        \n",
    "        self.Conv2 = nn.Sequential(nn.Conv2d(in_channels=d,\n",
    "                               out_channels=s,\n",
    "                               kernel_size=1,\n",
    "                               device=device),\n",
    "                                   nn.PReLU(s))\n",
    "        \n",
    "        self.Conv3 = []\n",
    "        for _ in range(m):\n",
    "            self.Conv3.extend([nn.Conv2d(in_channels=s,\n",
    "                               out_channels=s,\n",
    "                               kernel_size=3,\n",
    "                               padding=3//2,\n",
    "                               padding_mode='zeros',\n",
    "                               device=device),\n",
    "                                nn.PReLU(s)])\n",
    "        self.Conv3 = nn.Sequential(*self.Conv3)\n",
    "        \n",
    "        self.Conv4 = nn.Sequential(nn.Conv2d(in_channels=s,\n",
    "                               out_channels=d,\n",
    "                               kernel_size=1,\n",
    "                               device=device),\n",
    "                                   nn.PReLU(d))\n",
    "        \n",
    "        self.DeConv = nn.ConvTranspose2d(in_channels=d,\n",
    "                                         out_channels=num_channels,\n",
    "                                         kernel_size=9,\n",
    "                                         stride=self.scale,\n",
    "                                         padding=9//2,\n",
    "                                         output_padding=self.scale-1,\n",
    "                                         device=device)\n",
    "        \n",
    "        self._init_weights()\n",
    "        \n",
    "    def _init_weights(self):\n",
    "        for w in self.Conv1:\n",
    "            if isinstance(w, nn.Conv2d):\n",
    "                nn.init.normal_(w.weight.data, mean=0.0, std=math.sqrt(2/(w.out_channels*w.weight.data[0][0].numel())))\n",
    "        for w in self.Conv2:\n",
    "            if isinstance(w, nn.Conv2d):\n",
    "                nn.init.normal_(w.weight.data, mean=0.0, std=math.sqrt(2/(w.out_channels*w.weight.data[0][0].numel())))\n",
    "        for w in self.Conv3:\n",
    "            if isinstance(w, nn.Conv2d):\n",
    "                nn.init.normal_(w.weight.data, mean=0.0, std=math.sqrt(2/(w.out_channels*w.weight.data[0][0].numel())))\n",
    "        for w in self.Conv4:\n",
    "            if isinstance(w, nn.Conv2d):\n",
    "                nn.init.normal_(w.weight.data, mean=0.0, std=math.sqrt(2/(w.out_channels*w.weight.data[0][0].numel())))\n",
    "        \n",
    "        nn.init.normal_(self.DeConv.weight.data, mean=0.0, std=0.001)\n",
    "        nn.init.zeros_(self.DeConv.bias.data)\n",
    "            \n",
    "        \n",
    "    def forward(self, x):\n",
    "        block1 = self.Conv1(x)\n",
    "        # print(block1.shape)\n",
    "        block2 = self.Conv2(block1)\n",
    "        # print(block2.shape)\n",
    "        block3 = self.Conv3(block2)\n",
    "        # print(block3.shape)\n",
    "        block4 = self.Conv4(block3)\n",
    "        # print(block4.shape)\n",
    "        out = self.DeConv(block4)\n",
    "        return out\n",
    "        "
   ]
  },
  {
   "cell_type": "code",
   "execution_count": 21,
   "metadata": {},
   "outputs": [
    {
     "data": {
      "text/plain": [
       "FSRCNN(\n",
       "  (Conv1): Sequential(\n",
       "    (0): Conv2d(3, 56, kernel_size=(5, 5), stride=(1, 1), padding=(2, 2))\n",
       "    (1): PReLU(num_parameters=56)\n",
       "  )\n",
       "  (Conv2): Sequential(\n",
       "    (0): Conv2d(56, 12, kernel_size=(1, 1), stride=(1, 1))\n",
       "    (1): PReLU(num_parameters=12)\n",
       "  )\n",
       "  (Conv3): Sequential(\n",
       "    (0): Conv2d(12, 12, kernel_size=(3, 3), stride=(1, 1), padding=(1, 1))\n",
       "    (1): PReLU(num_parameters=12)\n",
       "    (2): Conv2d(12, 12, kernel_size=(3, 3), stride=(1, 1), padding=(1, 1))\n",
       "    (3): PReLU(num_parameters=12)\n",
       "    (4): Conv2d(12, 12, kernel_size=(3, 3), stride=(1, 1), padding=(1, 1))\n",
       "    (5): PReLU(num_parameters=12)\n",
       "    (6): Conv2d(12, 12, kernel_size=(3, 3), stride=(1, 1), padding=(1, 1))\n",
       "    (7): PReLU(num_parameters=12)\n",
       "  )\n",
       "  (Conv4): Sequential(\n",
       "    (0): Conv2d(12, 56, kernel_size=(1, 1), stride=(1, 1))\n",
       "    (1): PReLU(num_parameters=56)\n",
       "  )\n",
       "  (DeConv): ConvTranspose2d(56, 3, kernel_size=(9, 9), stride=(4, 4), padding=(4, 4), output_padding=(3, 3))\n",
       ")"
      ]
     },
     "execution_count": 21,
     "metadata": {},
     "output_type": "execute_result"
    }
   ],
   "source": [
    "model_0 = FSRCNN(scale=4).to(device)\n",
    "\n",
    "model_0"
   ]
  },
  {
   "cell_type": "code",
   "execution_count": 22,
   "metadata": {},
   "outputs": [],
   "source": [
    "# Install torch info\n",
    "try:\n",
    "  import torchinfo\n",
    "except:\n",
    "  !pip install torchinfo\n",
    "  import torchinfo"
   ]
  },
  {
   "cell_type": "code",
   "execution_count": 23,
   "metadata": {},
   "outputs": [
    {
     "data": {
      "text/plain": [
       "==========================================================================================\n",
       "Layer (type:depth-idx)                   Output Shape              Param #\n",
       "==========================================================================================\n",
       "FSRCNN                                   [1, 3, 1404, 2040]        --\n",
       "├─Sequential: 1-1                        [1, 56, 351, 510]         --\n",
       "│    └─Conv2d: 2-1                       [1, 56, 351, 510]         4,256\n",
       "│    └─PReLU: 2-2                        [1, 56, 351, 510]         56\n",
       "├─Sequential: 1-2                        [1, 12, 351, 510]         --\n",
       "│    └─Conv2d: 2-3                       [1, 12, 351, 510]         684\n",
       "│    └─PReLU: 2-4                        [1, 12, 351, 510]         12\n",
       "├─Sequential: 1-3                        [1, 12, 351, 510]         --\n",
       "│    └─Conv2d: 2-5                       [1, 12, 351, 510]         1,308\n",
       "│    └─PReLU: 2-6                        [1, 12, 351, 510]         12\n",
       "│    └─Conv2d: 2-7                       [1, 12, 351, 510]         1,308\n",
       "│    └─PReLU: 2-8                        [1, 12, 351, 510]         12\n",
       "│    └─Conv2d: 2-9                       [1, 12, 351, 510]         1,308\n",
       "│    └─PReLU: 2-10                       [1, 12, 351, 510]         12\n",
       "│    └─Conv2d: 2-11                      [1, 12, 351, 510]         1,308\n",
       "│    └─PReLU: 2-12                       [1, 12, 351, 510]         12\n",
       "├─Sequential: 1-4                        [1, 56, 351, 510]         --\n",
       "│    └─Conv2d: 2-13                      [1, 56, 351, 510]         728\n",
       "│    └─PReLU: 2-14                       [1, 56, 351, 510]         56\n",
       "├─ConvTranspose2d: 1-5                   [1, 3, 1404, 2040]        13,611\n",
       "==========================================================================================\n",
       "Total params: 24,683\n",
       "Trainable params: 24,683\n",
       "Non-trainable params: 0\n",
       "Total mult-adds (Units.GIGABYTES): 40.94\n",
       "==========================================================================================\n",
       "Input size (MB): 2.15\n",
       "Forward/backward pass size (MB): 561.38\n",
       "Params size (MB): 0.10\n",
       "Estimated Total Size (MB): 563.62\n",
       "=========================================================================================="
      ]
     },
     "execution_count": 23,
     "metadata": {},
     "output_type": "execute_result"
    }
   ],
   "source": [
    "from torchinfo import summary\n",
    "\n",
    "summary(model_0, input_size=[1, 3, 351, 510])"
   ]
  },
  {
   "cell_type": "code",
   "execution_count": 24,
   "metadata": {},
   "outputs": [
    {
     "data": {
      "text/plain": [
       "(torch.Size([3, 351, 510]), torch.Size([3, 1404, 2040]))"
      ]
     },
     "execution_count": 24,
     "metadata": {},
     "output_type": "execute_result"
    }
   ],
   "source": [
    "# single image batch\n",
    "LR_single, HR_single = next(iter(train_data_custom))\n",
    "LR_single.shape, HR_single.shape"
   ]
  },
  {
   "cell_type": "code",
   "execution_count": 25,
   "metadata": {},
   "outputs": [
    {
     "data": {
      "text/plain": [
       "torch.Size([1, 3, 351, 510])"
      ]
     },
     "execution_count": 25,
     "metadata": {},
     "output_type": "execute_result"
    }
   ],
   "source": [
    "LR_single.unsqueeze(0).shape"
   ]
  },
  {
   "cell_type": "code",
   "execution_count": 26,
   "metadata": {},
   "outputs": [
    {
     "data": {
      "text/plain": [
       "torch.Size([1, 3, 1404, 2040])"
      ]
     },
     "execution_count": 26,
     "metadata": {},
     "output_type": "execute_result"
    }
   ],
   "source": [
    "example_y = model_0(LR_single.unsqueeze(0).to(device))\n",
    "example_y.shape"
   ]
  },
  {
   "cell_type": "markdown",
   "metadata": {},
   "source": [
    "# Train Model\n",
    "\n",
    "1. first train on simple model with only downsampled training data\n",
    "2. few epochs no batches\n",
    "3. create my own batches by making a list of lists or something\n",
    "\n",
    "- for an epoch in a range\n",
    "- do a forward pass\n",
    "- calculate the loss\n",
    "- optimizer zero_grad\n",
    "- loss backward\n",
    "- optimizer step"
   ]
  },
  {
   "cell_type": "code",
   "execution_count": 27,
   "metadata": {},
   "outputs": [
    {
     "name": "stderr",
     "output_type": "stream",
     "text": [
      "g:\\Anaconda\\envs\\pytorch\\Lib\\site-packages\\tqdm\\auto.py:21: TqdmWarning: IProgress not found. Please update jupyter and ipywidgets. See https://ipywidgets.readthedocs.io/en/stable/user_install.html\n",
      "  from .autonotebook import tqdm as notebook_tqdm\n"
     ]
    }
   ],
   "source": [
    "from tqdm.auto import tqdm\n",
    "\n",
    "def train_step(model: torch.nn.Module,\n",
    "               dataloader: torch.utils.data.DataLoader,\n",
    "               loss_fn: torch.nn.Module,\n",
    "               optimizer: torch.optim.Optimizer,\n",
    "               device=device):\n",
    "    \"\"\"\n",
    "    Trains one batch of images and returns the loss\n",
    "    \"\"\"\n",
    "    # Initialize training loss\n",
    "    train_loss = 0\n",
    "\n",
    "    model.train()\n",
    "        \n",
    "    for batch, (X, y) in enumerate(dataloader):\n",
    "        # Put on correct device\n",
    "        X, y = X.to(device), y.to(device)\n",
    "        \n",
    "        # Forward Pass\n",
    "        train_pred = model(X)\n",
    "        \n",
    "        # Calculate Loss\n",
    "        loss = loss_fn(train_pred, y)\n",
    "        train_loss += loss.item()\n",
    "        \n",
    "        # Optimizer zero grad\n",
    "        optimizer.zero_grad()\n",
    "        \n",
    "        # Loss Backward\n",
    "        loss.backward()\n",
    "        \n",
    "        # Optimizer Step\n",
    "        optimizer.step()\n",
    "    \n",
    "    train_loss /= len(dataloader)\n",
    "        \n",
    "    return train_loss"
   ]
  },
  {
   "cell_type": "code",
   "execution_count": 28,
   "metadata": {},
   "outputs": [],
   "source": [
    "def test_step(model: torch.nn.Module,\n",
    "              dataloader: torch.utils.data.DataLoader,\n",
    "              loss_fn: torch.nn.Module,\n",
    "              device=device):\n",
    "    \n",
    "    # Put in eval mode\n",
    "    model.eval()\n",
    "\n",
    "    # Initialize test loss\n",
    "    test_loss = 0\n",
    "\n",
    "    # Put in inference mode\n",
    "    with torch.inference_mode():\n",
    "        \n",
    "        for batch, (X, y) in enumerate(dataloader):\n",
    "            # Put data on correct device\n",
    "            X, y = X.to(device), y.to(device)\n",
    "            \n",
    "            # Forward Pass\n",
    "            test_pred = model(X)\n",
    "            \n",
    "            # Calculate loss\n",
    "            loss = loss_fn(test_pred, y)\n",
    "            test_loss += loss.item()\n",
    "            \n",
    "    test_loss /= len(dataloader)\n",
    "\n",
    "    return test_loss"
   ]
  },
  {
   "cell_type": "code",
   "execution_count": 29,
   "metadata": {},
   "outputs": [],
   "source": [
    "def train(model: torch.nn.Module,\n",
    "          train_dataloader: torch.utils.data.DataLoader,\n",
    "          test_dataloader: torch.utils.data.DataLoader,\n",
    "          optimizer: torch.optim.Optimizer,\n",
    "          loss_fn: torch.nn.Module,\n",
    "          epochs: int,\n",
    "          device=device):\n",
    "    \n",
    "      results = {'train_loss': [],\n",
    "                  'test_loss': []}\n",
    "\n",
    "      for epoch in tqdm(range(epochs)):\n",
    "            train_loss = train_step(\n",
    "                  model=model,\n",
    "                  dataloader=train_dataloader,\n",
    "                  loss_fn=loss_fn,\n",
    "                  optimizer=optimizer,\n",
    "                  device=device\n",
    "            )\n",
    "            \n",
    "            test_loss = test_step(\n",
    "                  model=model,\n",
    "                  dataloader=test_dataloader,\n",
    "                  loss_fn=loss_fn,\n",
    "                  device=device\n",
    "            )\n",
    "            \n",
    "            results['train_loss'].append(train_loss)\n",
    "            results['test_loss'].append(test_loss)\n",
    "            \n",
    "            print(f\"Epoch: {epoch+1}  || Train Loss: {train_loss:.6f} || Test Loss: {test_loss:.6f}\")\n",
    "            \n",
    "      return results"
   ]
  },
  {
   "cell_type": "code",
   "execution_count": 30,
   "metadata": {},
   "outputs": [
    {
     "data": {
      "text/plain": [
       "'cuda'"
      ]
     },
     "execution_count": 30,
     "metadata": {},
     "output_type": "execute_result"
    }
   ],
   "source": [
    "device"
   ]
  },
  {
   "cell_type": "code",
   "execution_count": 31,
   "metadata": {},
   "outputs": [
    {
     "name": "stderr",
     "output_type": "stream",
     "text": [
      "  0%|          | 0/10 [00:00<?, ?it/s]"
     ]
    },
    {
     "name": "stderr",
     "output_type": "stream",
     "text": [
      " 10%|█         | 1/10 [1:11:01<10:39:09, 4261.02s/it]"
     ]
    },
    {
     "name": "stdout",
     "output_type": "stream",
     "text": [
      "Epoch: 1  || Train Loss: 0.044418 || Test Loss: 0.037251\n"
     ]
    },
    {
     "name": "stderr",
     "output_type": "stream",
     "text": [
      " 20%|██        | 2/10 [2:13:05<8:46:04, 3945.52s/it] "
     ]
    },
    {
     "name": "stdout",
     "output_type": "stream",
     "text": [
      "Epoch: 2  || Train Loss: 0.030130 || Test Loss: 0.027170\n"
     ]
    },
    {
     "name": "stderr",
     "output_type": "stream",
     "text": [
      " 30%|███       | 3/10 [3:15:03<7:28:11, 3841.69s/it]"
     ]
    },
    {
     "name": "stdout",
     "output_type": "stream",
     "text": [
      "Epoch: 3  || Train Loss: 0.025485 || Test Loss: 0.025130\n"
     ]
    },
    {
     "name": "stderr",
     "output_type": "stream",
     "text": [
      " 40%|████      | 4/10 [4:17:16<6:19:51, 3798.58s/it]"
     ]
    },
    {
     "name": "stdout",
     "output_type": "stream",
     "text": [
      "Epoch: 4  || Train Loss: 0.023730 || Test Loss: 0.023538\n"
     ]
    },
    {
     "name": "stderr",
     "output_type": "stream",
     "text": [
      " 50%|█████     | 5/10 [5:18:59<5:13:41, 3764.21s/it]"
     ]
    },
    {
     "name": "stdout",
     "output_type": "stream",
     "text": [
      "Epoch: 5  || Train Loss: 0.022490 || Test Loss: 0.022359\n"
     ]
    },
    {
     "name": "stderr",
     "output_type": "stream",
     "text": [
      " 60%|██████    | 6/10 [6:21:02<4:10:00, 3750.09s/it]"
     ]
    },
    {
     "name": "stdout",
     "output_type": "stream",
     "text": [
      "Epoch: 6  || Train Loss: 0.021554 || Test Loss: 0.021576\n"
     ]
    },
    {
     "name": "stderr",
     "output_type": "stream",
     "text": [
      " 70%|███████   | 7/10 [7:22:38<3:06:37, 3732.42s/it]"
     ]
    },
    {
     "name": "stdout",
     "output_type": "stream",
     "text": [
      "Epoch: 7  || Train Loss: 0.020562 || Test Loss: 0.019919\n"
     ]
    },
    {
     "name": "stderr",
     "output_type": "stream",
     "text": [
      " 80%|████████  | 8/10 [8:23:58<2:03:51, 3715.74s/it]"
     ]
    },
    {
     "name": "stdout",
     "output_type": "stream",
     "text": [
      "Epoch: 8  || Train Loss: 0.018371 || Test Loss: 0.017697\n"
     ]
    },
    {
     "name": "stderr",
     "output_type": "stream",
     "text": [
      " 90%|█████████ | 9/10 [9:25:50<1:01:54, 3714.62s/it]"
     ]
    },
    {
     "name": "stdout",
     "output_type": "stream",
     "text": [
      "Epoch: 9  || Train Loss: 0.017310 || Test Loss: 0.017125\n"
     ]
    },
    {
     "name": "stderr",
     "output_type": "stream",
     "text": [
      "100%|██████████| 10/10 [10:27:29<00:00, 3764.97s/it]"
     ]
    },
    {
     "name": "stdout",
     "output_type": "stream",
     "text": [
      "Epoch: 10  || Train Loss: 0.016846 || Test Loss: 0.016994\n"
     ]
    },
    {
     "name": "stderr",
     "output_type": "stream",
     "text": [
      "\n"
     ]
    },
    {
     "data": {
      "text/plain": [
       "{'train_loss': [0.044418130624957614,\n",
       "  0.030130305201360293,\n",
       "  0.02548518928633009,\n",
       "  0.023730437326190235,\n",
       "  0.022489682346468552,\n",
       "  0.02155365740623775,\n",
       "  0.020562462160720395,\n",
       "  0.018371241490638773,\n",
       "  0.017310466679661005,\n",
       "  0.016846155472882957],\n",
       " 'test_loss': [0.037251418361905965,\n",
       "  0.027170321939280255,\n",
       "  0.025130451131379232,\n",
       "  0.02353822980215773,\n",
       "  0.022358561147470028,\n",
       "  0.021576458221534266,\n",
       "  0.01991902447550092,\n",
       "  0.017697152547305448,\n",
       "  0.01712468771345448,\n",
       "  0.016994405518635177]}"
      ]
     },
     "execution_count": 31,
     "metadata": {},
     "output_type": "execute_result"
    }
   ],
   "source": [
    "optimizer = torch.optim.SGD(params=model_0.parameters(),\n",
    "                     lr=1e-3)\n",
    "loss_fn = nn.L1Loss()\n",
    "\n",
    "EPOCHS=10\n",
    "train(model=model_0,\n",
    "      train_dataloader=train_dataloader_custom,\n",
    "      test_dataloader=eval_dataloader_custom,\n",
    "      optimizer=optimizer,\n",
    "      loss_fn=loss_fn,\n",
    "      epochs=EPOCHS,\n",
    "      device=device)"
   ]
  },
  {
   "cell_type": "markdown",
   "metadata": {},
   "source": [
    "# Save Model\n",
    "0.1.0 - grayscale; 1 channel <br/>\n",
    "0.2.0 - rgb; 3 channels"
   ]
  },
  {
   "cell_type": "code",
   "execution_count": 36,
   "metadata": {},
   "outputs": [
    {
     "name": "stdout",
     "output_type": "stream",
     "text": [
      "Saving model to models\\FSRCNN_4s_10e_1b_0.2.0.pth\n"
     ]
    },
    {
     "data": {
      "text/plain": [
       "FSRCNN(\n",
       "  (Conv1): Sequential(\n",
       "    (0): Conv2d(3, 56, kernel_size=(5, 5), stride=(1, 1), padding=(2, 2))\n",
       "    (1): PReLU(num_parameters=56)\n",
       "  )\n",
       "  (Conv2): Sequential(\n",
       "    (0): Conv2d(56, 12, kernel_size=(1, 1), stride=(1, 1))\n",
       "    (1): PReLU(num_parameters=12)\n",
       "  )\n",
       "  (Conv3): Sequential(\n",
       "    (0): Conv2d(12, 12, kernel_size=(3, 3), stride=(1, 1), padding=(1, 1))\n",
       "    (1): PReLU(num_parameters=12)\n",
       "    (2): Conv2d(12, 12, kernel_size=(3, 3), stride=(1, 1), padding=(1, 1))\n",
       "    (3): PReLU(num_parameters=12)\n",
       "    (4): Conv2d(12, 12, kernel_size=(3, 3), stride=(1, 1), padding=(1, 1))\n",
       "    (5): PReLU(num_parameters=12)\n",
       "    (6): Conv2d(12, 12, kernel_size=(3, 3), stride=(1, 1), padding=(1, 1))\n",
       "    (7): PReLU(num_parameters=12)\n",
       "  )\n",
       "  (Conv4): Sequential(\n",
       "    (0): Conv2d(12, 56, kernel_size=(1, 1), stride=(1, 1))\n",
       "    (1): PReLU(num_parameters=56)\n",
       "  )\n",
       "  (DeConv): ConvTranspose2d(56, 3, kernel_size=(9, 9), stride=(4, 4), padding=(4, 4), output_padding=(3, 3))\n",
       ")"
      ]
     },
     "execution_count": 36,
     "metadata": {},
     "output_type": "execute_result"
    }
   ],
   "source": [
    "EPOCHS=10\n",
    "SCALE = 4\n",
    "MODEL_PATH = Path(\"models\")\n",
    "MODEL_PATH.mkdir(parents=True,\n",
    "                 exist_ok=True)\n",
    "\n",
    "MODEL_NAME = f'FSRCNN_{SCALE}s_{EPOCHS}e_{BATCH_SIZE}b_0.2.0.pth'\n",
    "MODEL_SAVE_PATH = MODEL_PATH / MODEL_NAME\n",
    "\n",
    "print(f\"Saving model to {MODEL_SAVE_PATH}\")\n",
    "torch.save(obj=model_0.state_dict(),\n",
    "           f= MODEL_SAVE_PATH)\n",
    "\n",
    "# Load in save state_dict\n",
    "loaded_model = FSRCNN(scale=4)\n",
    "loaded_model.load_state_dict(torch.load(f=MODEL_SAVE_PATH, map_location=device))\n",
    "loaded_model.to(device)"
   ]
  },
  {
   "cell_type": "markdown",
   "metadata": {},
   "source": [
    "# Calculate PSNR"
   ]
  },
  {
   "cell_type": "code",
   "execution_count": 37,
   "metadata": {},
   "outputs": [
    {
     "name": "stderr",
     "output_type": "stream",
     "text": [
      "2000it [08:19,  4.00it/s]"
     ]
    },
    {
     "name": "stdout",
     "output_type": "stream",
     "text": [
      "Avg PSNR: 30.8221\n",
      "Max PSNR: 40.6652413687607\n"
     ]
    },
    {
     "name": "stderr",
     "output_type": "stream",
     "text": [
      "\n"
     ]
    }
   ],
   "source": [
    "def calc_psnr(img1, img2):\n",
    "    diff = np.subtract(img1, img2)\n",
    "    # Get the square of the difference\n",
    "    squared_diff = diff**2\n",
    "    # Compute the mean squared error\n",
    "    mse = np.mean(squared_diff)\n",
    "    max_value = 1\n",
    "    psnr = 10 * np.log10(max_value/mse)\n",
    "\n",
    "    return psnr\n",
    "\n",
    "psnr_list = []\n",
    "\n",
    "for idx, (X, y) in tqdm(enumerate(eval_dataloader_custom)):\n",
    "    X = X.to(device)\n",
    "    \n",
    "    with torch.inference_mode():\n",
    "        pred = loaded_model(X)\n",
    "    \n",
    "    psnr = calc_psnr(pred.cpu().numpy(), y.cpu().numpy())\n",
    "    \n",
    "    psnr_list.append(psnr)\n",
    "\n",
    "print(f'Avg PSNR: {np.mean(psnr_list):.4f}\\nMax PSNR: {np.max(psnr_list)}')"
   ]
  },
  {
   "cell_type": "code",
   "execution_count": null,
   "metadata": {},
   "outputs": [
    {
     "ename": "",
     "evalue": "",
     "output_type": "error",
     "traceback": [
      "\u001b[1;31mFailed to start the Kernel. \n",
      "\u001b[1;31mUnable to start Kernel 'pytorch (Python 3.11.5)' due to a connection timeout. \n",
      "\u001b[1;31mView Jupyter <a href='command:jupyter.viewOutput'>log</a> for further details."
     ]
    }
   ],
   "source": [
    "# avg: 58.93\n",
    "# max: 64.07\n",
    "import os\n",
    "os.path.dirname(os.getcwd())"
   ]
  },
  {
   "cell_type": "code",
   "execution_count": null,
   "metadata": {},
   "outputs": [
    {
     "ename": "",
     "evalue": "",
     "output_type": "error",
     "traceback": [
      "\u001b[1;31mFailed to start the Kernel. \n",
      "\u001b[1;31mUnable to start Kernel 'pytorch (Python 3.11.5)' due to a connection timeout. \n",
      "\u001b[1;31mView Jupyter <a href='command:jupyter.viewOutput'>log</a> for further details."
     ]
    }
   ],
   "source": [
    "LR_custom, HR_custom = next(iter(eval_dataloader_custom))"
   ]
  },
  {
   "cell_type": "code",
   "execution_count": null,
   "metadata": {},
   "outputs": [
    {
     "ename": "",
     "evalue": "",
     "output_type": "error",
     "traceback": [
      "\u001b[1;31mFailed to start the Kernel. \n",
      "\u001b[1;31mUnable to start Kernel 'pytorch (Python 3.11.5)' due to a connection timeout. \n",
      "\u001b[1;31mView Jupyter <a href='command:jupyter.viewOutput'>log</a> for further details."
     ]
    }
   ],
   "source": [
    "from torchvision.transforms.functional import to_pil_image"
   ]
  },
  {
   "cell_type": "code",
   "execution_count": null,
   "metadata": {},
   "outputs": [
    {
     "ename": "",
     "evalue": "",
     "output_type": "error",
     "traceback": [
      "\u001b[1;31mFailed to start the Kernel. \n",
      "\u001b[1;31mUnable to start Kernel 'pytorch (Python 3.11.5)' due to a connection timeout. \n",
      "\u001b[1;31mView Jupyter <a href='command:jupyter.viewOutput'>log</a> for further details."
     ]
    }
   ],
   "source": [
    "# with torch.inference_mode():\n",
    "#     # Image.open(loaded_model(LR_custom.to(device)).cpu().squeeze().permute(1,2,0)).convert('RGB')\n",
    "#     image = to(LR_custom).convert('RGB')\n",
    "#     plt.imshow(image)"
   ]
  },
  {
   "cell_type": "code",
   "execution_count": null,
   "metadata": {},
   "outputs": [
    {
     "ename": "",
     "evalue": "",
     "output_type": "error",
     "traceback": [
      "\u001b[1;31mFailed to start the Kernel. \n",
      "\u001b[1;31mUnable to start Kernel 'pytorch (Python 3.11.5)' due to a connection timeout. \n",
      "\u001b[1;31mView Jupyter <a href='command:jupyter.viewOutput'>log</a> for further details."
     ]
    }
   ],
   "source": [
    "from torchvision.io import read_image, ImageReadMode\n",
    "def upscale(model, in_filename, out_filepath):\n",
    "    image = read_image(in_filename).type(torch.float32).to(device)\n",
    "    print(image.shape)\n",
    "    # Convert the image to a PyTorch tensor and add a batch dimension\n",
    "    # image_tensor = v2.ToTensor()(image).unsqueeze(0)\n",
    "    # Perform the upscale operation using the model\n",
    "    with torch.inference_mode():\n",
    "       HR_tensor = model(image.unsqueeze(0)).squeeze(0)\n",
    "    # Convert the output tensor back to a PIL image\n",
    "    HR_img = to_pil_image(HR_tensor)\n",
    "    # Save the resulting image to the output file\n",
    "    HR_img.save(out_filepath)\n",
    "    \n",
    "    return HR_tensor.cpu()"
   ]
  },
  {
   "cell_type": "code",
   "execution_count": null,
   "metadata": {},
   "outputs": [
    {
     "ename": "",
     "evalue": "",
     "output_type": "error",
     "traceback": [
      "\u001b[1;31mFailed to start the Kernel. \n",
      "\u001b[1;31mUnable to start Kernel 'pytorch (Python 3.11.5)' due to a connection timeout. \n",
      "\u001b[1;31mView Jupyter <a href='command:jupyter.viewOutput'>log</a> for further details."
     ]
    }
   ],
   "source": [
    "plt.axis(False)\n",
    "plt.margins(False)\n",
    "plt.imshow(upscale(loaded_model, 'test_in/1219081536a.jpg', 'test_out/X3_1219081536a.jpg').permute(1,2,0))"
   ]
  },
  {
   "cell_type": "code",
   "execution_count": null,
   "metadata": {},
   "outputs": [
    {
     "ename": "",
     "evalue": "",
     "output_type": "error",
     "traceback": [
      "\u001b[1;31mFailed to start the Kernel. \n",
      "\u001b[1;31mUnable to start Kernel 'pytorch (Python 3.11.5)' due to a connection timeout. \n",
      "\u001b[1;31mView Jupyter <a href='command:jupyter.viewOutput'>log</a> for further details."
     ]
    }
   ],
   "source": []
  }
 ],
 "metadata": {
  "kernelspec": {
   "display_name": "pytorch",
   "language": "python",
   "name": "python3"
  },
  "language_info": {
   "codemirror_mode": {
    "name": "ipython",
    "version": 3
   },
   "file_extension": ".py",
   "mimetype": "text/x-python",
   "name": "python",
   "nbconvert_exporter": "python",
   "pygments_lexer": "ipython3",
   "version": "3.11.5"
  }
 },
 "nbformat": 4,
 "nbformat_minor": 2
}
