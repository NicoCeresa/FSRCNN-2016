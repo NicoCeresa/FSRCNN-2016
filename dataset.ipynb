{
 "cells": [
  {
   "cell_type": "code",
   "execution_count": 25,
   "metadata": {},
   "outputs": [
    {
     "name": "stdout",
     "output_type": "stream",
     "text": [
      "device: cuda\n",
      "2.1.1\n"
     ]
    }
   ],
   "source": [
    "import os\n",
    "import torch\n",
    "import zipfile\n",
    "import requests\n",
    "import numpy as np\n",
    "from torch import nn\n",
    "from pathlib import Path\n",
    "\n",
    "device = 'cuda' if torch.cuda.is_available() else 'cpu'\n",
    "print(f\"device: {device}\")\n",
    "print(torch.__version__)"
   ]
  },
  {
   "cell_type": "code",
   "execution_count": 30,
   "metadata": {},
   "outputs": [],
   "source": [
    "def unzip(zip_path, image_path):\n",
    "    \"\"\"unzips\n",
    "\n",
    "    Args:\n",
    "        zip_path (_type_): _description_\n",
    "        image_path (_type_): _description_\n",
    "    \"\"\"\n",
    "    if image_path.is_dir():\n",
    "        print(f\"{image_path} already exists\")\n",
    "    else:\n",
    "        image_path.mkdir(parents=True, exist_ok=True)      \n",
    "        \n",
    "    if len(os.listdir(image_path)) > 0:\n",
    "        print(\"Images already in folder\") \n",
    "        pass\n",
    "    else:\n",
    "        with zipfile.ZipFile(zip_path, 'r') as zip_train:\n",
    "            print('Unzipping Data')\n",
    "            zip_train.extractall(image_path)    "
   ]
  },
  {
   "cell_type": "code",
   "execution_count": 31,
   "metadata": {},
   "outputs": [
    {
     "name": "stdout",
     "output_type": "stream",
     "text": [
      "image_data\\train_images already exists\n",
      "Images already in folder\n",
      "image_data\\valid_images already exists\n",
      "Unzipping Data\n"
     ]
    }
   ],
   "source": [
    "zip_data_path = Path('zip_data/')\n",
    "image_data_path = Path('image_data/')\n",
    "\n",
    "train_zip_path = zip_data_path / 'DIV2K_train_HR.zip'\n",
    "train_image_path = image_data_path / \"train_images\"\n",
    "\n",
    "valid_zip_path = zip_data_path / 'DIV2K_valid_HR.zip'\n",
    "valid_image_path = image_data_path / \"valid_images\"\n",
    "\n",
    "unzip(train_zip_path, train_image_path)\n",
    "unzip(valid_zip_path, valid_image_path)"
   ]
  },
  {
   "cell_type": "code",
   "execution_count": null,
   "metadata": {},
   "outputs": [],
   "source": []
  }
 ],
 "metadata": {
  "kernelspec": {
   "display_name": "pytorch",
   "language": "python",
   "name": "python3"
  },
  "language_info": {
   "codemirror_mode": {
    "name": "ipython",
    "version": 3
   },
   "file_extension": ".py",
   "mimetype": "text/x-python",
   "name": "python",
   "nbconvert_exporter": "python",
   "pygments_lexer": "ipython3",
   "version": "3.11.5"
  }
 },
 "nbformat": 4,
 "nbformat_minor": 2
}
